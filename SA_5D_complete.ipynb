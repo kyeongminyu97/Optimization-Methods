{
  "cells": [
    {
      "cell_type": "code",
      "execution_count": 2,
      "metadata": {
        "id": "670PeX4UJiO8"
      },
      "outputs": [],
      "source": [
        "import numpy as np\n",
        "import math\n",
        "import matplotlib.pyplot as plt\n",
        "from mpl_toolkits.mplot3d import Axes3D\n",
        "from matplotlib import cm\n",
        "np.random.seed(4) "
      ]
    },
    {
      "cell_type": "code",
      "execution_count": 3,
      "metadata": {
        "id": "BSi6Ed54JiPC"
      },
      "outputs": [],
      "source": [
        "def rana5D(x1,x2,x3,x4,x5):\n",
        "    y1= (x1* np.cos(np.sqrt(abs(x2+x1+1))) *np.sin(np.sqrt(abs(x2-x1+1)))) + ((1+x2) * np.cos(np.sqrt(abs(x2-x1+1))) *np.sin(np.sqrt(abs(x2+x1+1))))\n",
        "    y2= (x2* np.cos(np.sqrt(abs(x3+x2+1))) *np.sin(np.sqrt(abs(x3-x2+1)))) + ((1+x3) * np.cos(np.sqrt(abs(x3-x2+1))) *np.sin(np.sqrt(abs(x3+x2+1))))\n",
        "    y3= (x3* np.cos(np.sqrt(abs(x4+x3+1))) *np.sin(np.sqrt(abs(x4-x3+1)))) + ((1+x4) * np.cos(np.sqrt(abs(x4-x3+1))) *np.sin(np.sqrt(abs(x4+x3+1))))\n",
        "    y4= (x4* np.cos(np.sqrt(abs(x5+x4+1))) *np.sin(np.sqrt(abs(x5-x4+1)))) + ((1+x5) * np.cos(np.sqrt(abs(x3-x4+1))) *np.sin(np.sqrt(abs(x5+x4+1))))\n",
        "    return y1+y2+y3+y4\n",
        "\n",
        "def upscale_x(x):\n",
        "    x_upscaled = 500*(2*x -1)\n",
        "    return x_upscaled\n",
        "\n",
        "def clip(x):\n",
        "    if x>1:\n",
        "        return 1\n",
        "    if x<0:\n",
        "        return 0\n",
        "    else:\n",
        "        return x\n",
        "    \n",
        "# generate new trial solutions by Parks, 1990\n",
        "def gen_x_parks(x,D,T):\n",
        "    \n",
        "    D_new= np.zeros((5,5))\n",
        "    x_new= np.zeros(5)\n",
        "    R_kk=np.array([D[0][0]*(np.random.uniform(-1,1)) , \\\n",
        "                   D[1][1]*(np.random.uniform(-1,1)),\\\n",
        "                   D[2][2]*(np.random.uniform(-1,1)),\\\n",
        "                   D[3][3]*(np.random.uniform(-1,1)),\\\n",
        "                   D[4][4]*(np.random.uniform(-1,1))])\n",
        "    x_new[0]=clip(x[0]+R_kk[0])\n",
        "    x_new[1]=clip(x[1]+R_kk[1])\n",
        "    x_new[2]=clip(x[2]+R_kk[2])\n",
        "    x_new[3]=clip(x[3]+R_kk[3])\n",
        "    x_new[4]=clip(x[4]+R_kk[4])\n",
        "    \n",
        "    #change in obj fn value\n",
        "    df= rana5D(upscale_x(x_new[0]),upscale_x(x_new[1]),upscale_x(x_new[2]),upscale_x(x_new[3]),upscale_x(x_new[4])) - rana5D(upscale_x(x[0]),upscale_x(x[1]),upscale_x(x_new[2]),upscale_x(x_new[3]),upscale_x(x_new[4]))\n",
        "    #actual step size:\n",
        "    d= np.sqrt(R_kk[0]**2+ R_kk[1]**2+R_kk[2]**2+R_kk[3]**2+R_kk[4]**2)\n",
        "    R_kk= np.fabs(R_kk)\n",
        "    #update D\n",
        "    D_new= np.zeros((5,5))\n",
        "    D_new[0][0]= (1-damp)*D[0][0] + damp*weight*abs(R_kk[0])\n",
        "    D_new[1][1]= (1-damp)*D[1][1] + damp*weight*abs(R_kk[1])\n",
        "    D_new[2][2]= (1-damp)*D[2][2] + damp*weight*abs(R_kk[2])\n",
        "    D_new[3][3]= (1-damp)*D[3][3] + damp*weight*abs(R_kk[3])\n",
        "    D_new[4][4]= (1-damp)*D[4][4] + damp*weight*abs(R_kk[4])\n",
        "    #probability of accepting an increase in f\n",
        "    p= np.exp(-df/(T*d))\n",
        "    #decrease in f, just accept\n",
        "    if df<0:\n",
        "        return x_new, D_new\n",
        "    #accept with prob p if f increases\n",
        "    elif p > np.random.uniform(0,1):\n",
        "        return x_new, D_new\n",
        "    else:\n",
        "        return x, D\n",
        "        \n",
        "def T0_estimate_white(x,D,Lk_init):\n",
        "    #by white 1984, T0= std of list of f values observed in initial search.\n",
        "    #Lk_init= number of initial search trials\n",
        "    \n",
        "    f_list=[]\n",
        "    \n",
        "    for i in range(0,Lk_init):\n",
        "        D_new= np.zeros((5,5))\n",
        "        x_new= np.zeros(5)\n",
        "        R_kk=np.array([D[0][0]*(np.random.uniform(-1,1)) ,\\\n",
        "                       D[1][1]*(np.random.uniform(-1,1)),\\\n",
        "                       D[2][2]*(np.random.uniform(-1,1)),\\\n",
        "                       D[3][3]*(np.random.uniform(-1,1)),\\\n",
        "                       D[4][4]*(np.random.uniform(-1,1))])\n",
        "\n",
        "        x_new[0]=clip(x[0]+R_kk[0])\n",
        "        x_new[1]=clip(x[0]+R_kk[1])\n",
        "        x_new[2]=clip(x[2]+R_kk[2])\n",
        "        x_new[3]=clip(x[3]+R_kk[3])\n",
        "        x_new[4]=clip(x[4]+R_kk[4])\n",
        "        \n",
        "        R_kk= np.fabs(R_kk)\n",
        "        \n",
        "        D_new[0][0]= (1-damp)*D[0][0] + damp*weight*R_kk[0]\n",
        "        D_new[1][1]= (1-damp)*D[1][1] + damp*weight*R_kk[1]\n",
        "        D_new[2][2]= (1-damp)*D[2][2] + damp*weight*abs(R_kk[2])\n",
        "        D_new[3][3]= (1-damp)*D[3][3] + damp*weight*abs(R_kk[3])\n",
        "        D_new[4][4]= (1-damp)*D[4][4] + damp*weight*abs(R_kk[4])\n",
        "        #list new f values, needed for T0 estimation\n",
        "        f= rana5D(upscale_x(x_new[0]),upscale_x(x_new[1]),\\\n",
        "                  upscale_x(x_new[2]),upscale_x(x_new[3]),\\\n",
        "                  upscale_x(x_new[4]))\n",
        "        f_list.append(f)\n",
        "        x= x_new\n",
        "        D= D_new\n",
        "    \n",
        "    T0= np.std(f_list)\n",
        "    return T0\n",
        "\n",
        "def T0_estimate_Kirk(x,D,Lk_init):\n",
        "    #by Kirk 1984\n",
        "    #Lk_init= number of initial search trials\n",
        "    df_list=[]\n",
        "    for i in range(0,Lk_init):\n",
        "        D_new= np.zeros((5,5))\n",
        "        x_new= np.zeros(5)\n",
        "        R_kk=np.array([D[0][0]*(np.random.uniform(-1,1)) , \\\n",
        "                       D[1][1]*(np.random.uniform(-1,1)),\\\n",
        "                       D[2][2]*(np.random.uniform(-1,1)),\\\n",
        "                       D[3][3]*(np.random.uniform(-1,1)),\\\n",
        "                       D[4][4]*(np.random.uniform(-1,1))])\n",
        "        x_new[0]=clip(x[0]+R_kk[0])\n",
        "        x_new[1]=clip(x[0]+R_kk[1])\n",
        "        x_new[2]=clip(x[2]+R_kk[2])\n",
        "        x_new[3]=clip(x[3]+R_kk[3])\n",
        "        x_new[4]=clip(x[4]+R_kk[4])\n",
        "        \n",
        "        R_kk= np.fabs(R_kk)\n",
        "        D_new[0][0]= (1-damp)*D[0][0] + damp*weight*R_kk[0]\n",
        "        D_new[1][1]= (1-damp)*D[1][1] + damp*weight*R_kk[1]\n",
        "        D_new[2][2]= (1-damp)*D[2][2] + damp*weight*abs(R_kk[2])\n",
        "        D_new[3][3]= (1-damp)*D[3][3] + damp*weight*abs(R_kk[3])\n",
        "        D_new[4][4]= (1-damp)*D[4][4] + damp*weight*abs(R_kk[4])\n",
        "        #list of df values, needed for T0 estimation\n",
        "        df= rana5D(upscale_x(x_new[0]),upscale_x(x_new[1]),\\\n",
        "                   upscale_x(x_new[2]),upscale_x(x_new[3]),\\\n",
        "                   upscale_x(x_new[4])) - \\\n",
        "            rana5D(upscale_x(x[0]),upscale_x(x[1]),\\\n",
        "               upscale_x(x_new[2]),\\\n",
        "               upscale_x(x_new[3]),upscale_x(x_new[4]))\n",
        "        if df>0:\n",
        "            df_list.append(df)\n",
        "        #update x and D also\n",
        "        x= x_new\n",
        "        D= D_new \n",
        "    T0= -np.mean(df_list)/np.log(0.8)\n",
        "    return T0\n",
        "\n",
        "\n",
        "# SA combined:\n",
        "Lk_init=100\n",
        "def SA_by_parks(k,Lk):\n",
        "#k= number of Steps(MCs), Lkk=length of each step (MCs)\n",
        "    f_list=[]\n",
        "    x_list=[]\n",
        "    #x0 generated randomly from seed\n",
        "    x0= np.array([np.random.rand(),np.random.rand(),np.random.rand(),\\\n",
        "                  np.random.rand(),np.random.rand()])\n",
        "    D0= np.zeros((5,5))\n",
        "    D0[0][0]= x0[0]\n",
        "    D0[1][1]= x0[1]\n",
        "    D0[2][2]= x0[2]\n",
        "    D0[3][3]= x0[3]\n",
        "    D0[4][4]= x0[4]\n",
        "    #initialise T\n",
        "    T= T0_estimate_white(x0,D0,Lk_init)\n",
        "    #first update of x and D\n",
        "    x,D= gen_x_parks(x0,D0,T)\n",
        "    #iterate\n",
        "    for i in range(0,k):\n",
        "        for j in range(0,Lk):\n",
        "            XX,DD= gen_x_parks(x,D,T)\n",
        "            if np.any(x != XX)== True:\n",
        "                x,D = XX,DD\n",
        "                f_list.append(rana5D(upscale_x(x[0]),\\\n",
        "                                     upscale_x(x[1]),\\\n",
        "                                     upscale_x(x[2]),\\\n",
        "                                     upscale_x(x[3]),\\\n",
        "                                     upscale_x(x[4])))\n",
        "                x_list.append((upscale_x(x[0]),\\\n",
        "                               upscale_x(x[1]),\\\n",
        "                               upscale_x(x[2]),\\\n",
        "                               upscale_x(x[3]),\\\n",
        "                               upscale_x(x[4])))\n",
        "        #T decrement outside MC\n",
        "        T*= 0.95\n",
        "       \n",
        "    f_min=min(f_list)\n",
        "    x_coords=x_list[f_list.index(f_min)]\n",
        "    \n",
        "    return f_list, x_list, f_min, x_coords\n",
        "    "
      ]
    },
    {
      "cell_type": "code",
      "execution_count": 4,
      "metadata": {
        "id": "J6ncXCBGJiPI"
      },
      "outputs": [],
      "source": [
        "#define params\n",
        "damp=0.1\n",
        "weight=2.1\n",
        "Lk_init=100\n",
        "k= 70\n",
        "Lk= 129\n",
        "num_iter=50 #run SA 50 times"
      ]
    },
    {
      "cell_type": "code",
      "execution_count": 5,
      "metadata": {
        "colab": {
          "base_uri": "https://localhost:8080/"
        },
        "id": "D2CGmKRjJiPJ",
        "outputId": "5426e46c-0c1b-4099-be99-375d758e4685"
      },
      "outputs": [
        {
          "output_type": "stream",
          "name": "stdout",
          "text": [
            "-2004.3309069383397 (500.0, 475.7847593931671, 500.0, -497.25510060712776, -500.0)\n"
          ]
        }
      ],
      "source": [
        "obj_fn_list=[]\n",
        "f_min_list=[]\n",
        "x_coords_list=[]\n",
        "for i in range(0,num_iter):\n",
        "    RESULTS=SA_by_parks(k,Lk)\n",
        "    f_min_list.append(RESULTS[2])\n",
        "    x_coords_list.append(RESULTS[3])\n",
        "    obj_fn_list.append(RESULTS[0])\n",
        "f_min_final= min(f_min_list)\n",
        "x_coord_final= x_coords_list[f_min_list.index(f_min_final)]\n",
        "\n",
        "print(f_min_final, x_coord_final)\n"
      ]
    },
    {
      "cell_type": "code",
      "execution_count": 6,
      "metadata": {
        "colab": {
          "base_uri": "https://localhost:8080/",
          "height": 297
        },
        "id": "_0sOWPhwJiPL",
        "outputId": "df4e8f43-65d8-4cb2-fdbc-9dc3dff35928"
      },
      "outputs": [
        {
          "output_type": "display_data",
          "data": {
            "text/plain": [
              "<Figure size 432x288 with 1 Axes>"
            ],
            "image/png": "[encoded data removed]"
          },
          "metadata": {
            "needs_background": "light"
          }
        }
      ],
      "source": [
        "#plot histogram of f_min_list over num_iter iterations\n",
        "plt.hist(f_min_list, 30, color='blue', histtype='bar', ec='black')\n",
        "plt.title('Huang, Histogram of $f(\\mathbf{x})$-min over 50 iterations')\n",
        "plt.xlabel('Minimised objective function values')\n",
        "plt.ylabel('Number of best solutions')\n",
        "plt.show()"
      ]
    },
    {
      "cell_type": "code",
      "execution_count": 7,
      "metadata": {
        "colab": {
          "base_uri": "https://localhost:8080/"
        },
        "id": "_Vjf0ukkJiPL",
        "outputId": "0c28242b-e101-4962-ec64-859ba4a2c232"
      },
      "outputs": [
        {
          "output_type": "stream",
          "name": "stdout",
          "text": [
            "24.83750319445244\n",
            "-1867.6738319988365\n"
          ]
        }
      ],
      "source": [
        "print(np.std(f_min_list))\n",
        "print(np.mean(f_min_list))"
      ]
    }
  ],
  "metadata": {
    "kernelspec": {
      "display_name": "Python 3",
      "language": "python",
      "name": "python3"
    },
    "language_info": {
      "codemirror_mode": {
        "name": "ipython",
        "version": 3
      },
      "file_extension": ".py",
      "mimetype": "text/x-python",
      "name": "python",
      "nbconvert_exporter": "python",
      "pygments_lexer": "ipython3",
      "version": "3.8.3"
    },
    "varInspector": {
      "cols": {
        "lenName": 16,
        "lenType": 16,
        "lenVar": 40
      },
      "kernels_config": {
        "python": {
          "delete_cmd_postfix": "",
          "delete_cmd_prefix": "del ",
          "library": "var_list.py",
          "varRefreshCmd": "print(var_dic_list())"
        },
        "r": {
          "delete_cmd_postfix": ") ",
          "delete_cmd_prefix": "rm(",
          "library": "var_list.r",
          "varRefreshCmd": "cat(var_dic_list()) "
        }
      },
      "types_to_exclude": [
        "module",
        "function",
        "builtin_function_or_method",
        "instance",
        "_Feature"
      ],
      "window_display": false
    },
    "colab": {
      "name": "SA 5D complete. ipynb",
      "provenance": []
    }
  },
  "nbformat": 4,
  "nbformat_minor": 0
}
